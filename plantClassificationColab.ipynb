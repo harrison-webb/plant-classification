{
  "nbformat": 4,
  "nbformat_minor": 0,
  "metadata": {
    "colab": {
      "name": "plantClassification.ipynb",
      "provenance": [],
      "mount_file_id": "1SccchKSSXzKFDtZnvJqBf1SqIdCuSnr0",
      "authorship_tag": "ABX9TyM3rIBnHUiiBmjDBc684qbR",
      "include_colab_link": true
    },
    "kernelspec": {
      "name": "python3",
      "display_name": "Python 3"
    },
    "language_info": {
      "name": "python"
    }
  },
  "cells": [
    {
      "cell_type": "markdown",
      "metadata": {
        "id": "view-in-github",
        "colab_type": "text"
      },
      "source": [
        "<a href=\"https://colab.research.google.com/github/harrison-webb/plant-classification/blob/main/plantClassificationColab.ipynb\" target=\"_parent\"><img src=\"https://colab.research.google.com/assets/colab-badge.svg\" alt=\"Open In Colab\"/></a>"
      ]
    },
    {
      "cell_type": "code",
      "execution_count": null,
      "metadata": {
        "colab": {
          "base_uri": "https://localhost:8080/"
        },
        "id": "kNK7XqbIpYVa",
        "outputId": "27d9c0f2-04ed-4012-8871-202915ddbb2b"
      },
      "outputs": [
        {
          "output_type": "stream",
          "name": "stdout",
          "text": [
            "cuda:0\n"
          ]
        }
      ],
      "source": [
        "import glob\n",
        "import torch\n",
        "import torch.nn as nn\n",
        "import torch.optim as optim\n",
        "from torch.optim import lr_scheduler\n",
        "import torch.backends.cudnn as cudnn\n",
        "import numpy as np\n",
        "import torchvision\n",
        "from torchvision import datasets\n",
        "from torchvision import models\n",
        "from torchvision import transforms\n",
        "from torch.utils.data import Dataset, DataLoader, Subset\n",
        "from sklearn.model_selection import train_test_split\n",
        "import matplotlib.pyplot as plt\n",
        "import time\n",
        "import os\n",
        "import copy\n",
        "from tqdm import tqdm\n",
        "\n",
        "TEST_SIZE = 0.1\n",
        "BATCH_SIZE = 64\n",
        "SEED = 42\n",
        "\n",
        "device = torch.device(\"cuda:0\" if torch.cuda.is_available() else \"cpu\")\n",
        "print(device)"
      ]
    },
    {
      "cell_type": "markdown",
      "source": [
        "Move to project directory"
      ],
      "metadata": {
        "id": "vt9xvveFRrFm"
      }
    },
    {
      "cell_type": "code",
      "source": [
        "dir = \"/content/drive/MyDrive/Colab Notebooks/plant-classification\"\n",
        "if os.getcwd() != dir:\n",
        "    os.chdir(dir)\n",
        "    print(\"directory changed to /plant-classification\")\n",
        "\n",
        "%pwd"
      ],
      "metadata": {
        "colab": {
          "base_uri": "https://localhost:8080/",
          "height": 53
        },
        "id": "pmutzoqAFzT4",
        "outputId": "b88776cf-3102-4507-c385-fc6fa1de3f21"
      },
      "execution_count": null,
      "outputs": [
        {
          "output_type": "stream",
          "name": "stdout",
          "text": [
            "directory changed to /plant-classification\n"
          ]
        },
        {
          "output_type": "execute_result",
          "data": {
            "text/plain": [
              "'/content/drive/MyDrive/Colab Notebooks/plant-classification'"
            ],
            "application/vnd.google.colaboratory.intrinsic+json": {
              "type": "string"
            }
          },
          "metadata": {},
          "execution_count": 5
        }
      ]
    },
    {
      "cell_type": "code",
      "source": [
        "path = \"data/flowers/\"\n",
        "folders = glob.glob(path + \"*\")\n",
        "print(folders)"
      ],
      "metadata": {
        "colab": {
          "base_uri": "https://localhost:8080/"
        },
        "id": "8AmCFfS6FLju",
        "outputId": "f1462be5-34bd-40a6-d5e6-e4bcb33094eb"
      },
      "execution_count": null,
      "outputs": [
        {
          "output_type": "stream",
          "name": "stdout",
          "text": [
            "['data/flowers/daisy', 'data/flowers/dandelion', 'data/flowers/rose', 'data/flowers/sunflower', 'data/flowers/tulip']\n"
          ]
        }
      ]
    },
    {
      "cell_type": "markdown",
      "source": [
        "Creating a temporary transform, dataset, and dataloader in order to loop over the images to find the mean and standard deviation so that we can use those values in transforms.Normalize() later in our 'real' transform."
      ],
      "metadata": {
        "id": "B6OzDh9UR2rD"
      }
    },
    {
      "cell_type": "code",
      "source": [
        "tempTransform = transforms.Compose(\n",
        "    [\n",
        "        transforms.Resize(256),\n",
        "        transforms.CenterCrop(256),\n",
        "        transforms.ToTensor()\n",
        "    ]\n",
        ")\n",
        "tempData = datasets.ImageFolder(path, transform=tempTransform)\n",
        "tempDataLoader = DataLoader(tempData, batch_size = BATCH_SIZE, shuffle = True)"
      ],
      "metadata": {
        "id": "uniHlNgnMnd-"
      },
      "execution_count": null,
      "outputs": []
    },
    {
      "cell_type": "code",
      "source": [
        "def calculateMeanAndSD(loader):\n",
        "    #referenced https://www.youtube.com/watch?v=y6IEcEBRZks\n",
        "    #Var(X) = E[X^2] - (E[X])^2\n",
        "    channels_sum, channels_sum_squared, num_batches = 0, 0, 0\n",
        "\n",
        "    for data, _ in tqdm(loader):\n",
        "        channels_sum += torch.mean(data, dim=[0,2,3])\n",
        "        channels_sum_squared += torch.mean(data**2, dim=[0,2,3])\n",
        "        num_batches += 1\n",
        "\n",
        "    mean = channels_sum / num_batches\n",
        "    #use variance formula\n",
        "    standard_deviation = ((channels_sum_squared / num_batches) - mean**2)**0.5\n",
        "\n",
        "    print(mean, standard_deviation)\n",
        "    return mean, standard_deviation"
      ],
      "metadata": {
        "id": "NiJsM60nNJuS"
      },
      "execution_count": null,
      "outputs": []
    },
    {
      "cell_type": "markdown",
      "source": [
        "This is the actual transform we will be using on the data."
      ],
      "metadata": {
        "id": "DFkXFjsaSTCi"
      }
    },
    {
      "cell_type": "code",
      "source": [
        "#mean, sd = calculateMeanAndSD(tempDataLoader)\n",
        "#hardcoded values if i dont want to recalculate\n",
        "mean, sd = torch.tensor([0.4818, 0.4332, 0.3072]), torch.tensor([0.2938, 0.2638, 0.2882])\n",
        "transform = transforms.Compose(\n",
        "    [\n",
        "        transforms.Resize(256),\n",
        "        transforms.CenterCrop(256),\n",
        "        transforms.RandomHorizontalFlip(),\n",
        "        transforms.RandomVerticalFlip(),\n",
        "        transforms.RandomRotation(35),\n",
        "        transforms.ToTensor(),\n",
        "        transforms.Normalize(mean=mean, std=sd)\n",
        "    ]\n",
        ")"
      ],
      "metadata": {
        "id": "6uX8ZVbzIgC6"
      },
      "execution_count": null,
      "outputs": []
    },
    {
      "cell_type": "markdown",
      "source": [
        "Now we can set up the dataset and dataloader we will be using, but we still need to segment into test and train data."
      ],
      "metadata": {
        "id": "_INnxe4mSaom"
      }
    },
    {
      "cell_type": "code",
      "source": [
        "flowerData = datasets.ImageFolder(path, transform=transform)\n",
        "flowerDataLoader = DataLoader(flowerData, batch_size=BATCH_SIZE, shuffle=True)"
      ],
      "metadata": {
        "id": "tIN63bPxrhcc"
      },
      "execution_count": null,
      "outputs": []
    },
    {
      "cell_type": "markdown",
      "source": [
        "Let's make sure the images are what we expect:"
      ],
      "metadata": {
        "id": "Ut9p1oL8K8X5"
      }
    },
    {
      "cell_type": "code",
      "source": [
        "inputs, classes = next(iter(flowerDataLoader))\n",
        "plt.imshow(np.transpose(inputs[1].numpy(), (1,2,0))) # should de-normalize to fix weird colors"
      ],
      "metadata": {
        "colab": {
          "base_uri": "https://localhost:8080/",
          "height": 324
        },
        "id": "iuE_-73WK772",
        "outputId": "0bff0755-fadf-49be-a350-74434510ff1e"
      },
      "execution_count": null,
      "outputs": [
        {
          "output_type": "stream",
          "name": "stderr",
          "text": [
            "Clipping input data to the valid range for imshow with RGB data ([0..1] for floats or [0..255] for integers).\n"
          ]
        },
        {
          "output_type": "execute_result",
          "data": {
            "text/plain": [
              "<matplotlib.image.AxesImage at 0x7f6c5b227b50>"
            ]
          },
          "metadata": {},
          "execution_count": 11
        },
        {
          "output_type": "display_data",
          "data": {
            "text/plain": [
              "<Figure size 432x288 with 1 Axes>"
            ],
            "image/png": "[encoded data removed]"
          },
          "metadata": {
            "needs_background": "light"
          }
        }
      ]
    },
    {
      "cell_type": "markdown",
      "source": [
        "Splitting data into test and train sets:"
      ],
      "metadata": {
        "id": "coi1h52UV_g8"
      }
    },
    {
      "cell_type": "code",
      "source": [
        "# https://stackoverflow.com/a/68338670\n",
        "# generate indices: instead of the actual data we pass in integers instead\n",
        "train_indices, test_indices, _, _ = train_test_split(\n",
        "    range(len(flowerData)),\n",
        "    flowerData.targets,\n",
        "    stratify=flowerData.targets,\n",
        "    test_size=TEST_SIZE,\n",
        "    random_state=SEED\n",
        ")\n",
        "\n",
        "# generate subset based on indices\n",
        "train_split = Subset(flowerData, train_indices)\n",
        "test_split = Subset(flowerData, test_indices)\n",
        "\n",
        "# create batches\n",
        "train_batches = DataLoader(train_split, batch_size=BATCH_SIZE, shuffle=True)\n",
        "test_batches = DataLoader(test_split, batch_size=BATCH_SIZE, shuffle=True)\n",
        "\n",
        "# set up dataloader dictionary for easier training\n",
        "dataloaders = {\"train\": train_batches, \"test\": test_batches}\n",
        "dataset_sizes = {\"train\": len(train_batches), \"test\": len(test_batches)}"
      ],
      "metadata": {
        "id": "94wZ3G_tV-YM"
      },
      "execution_count": null,
      "outputs": []
    },
    {
      "cell_type": "markdown",
      "source": [
        "At this point, we have processed the images, and split them into 'train_split' and 'test_split'. Now we're ready to train the model!\n",
        "______"
      ],
      "metadata": {
        "id": "_QzyS4xiX8AG"
      }
    },
    {
      "cell_type": "code",
      "source": [
        "def train_model(model, criterion, optimizer, scheduler, num_epochs=35):\n",
        "    since = time.time()\n",
        "\n",
        "    best_model_weights = copy.deepcopy(model.state_dict())\n",
        "    best_accuracy = 0.0\n",
        "\n",
        "    for epoch in range(num_epochs):\n",
        "        print(f\"Epoch {epoch}/{num_epochs - 1}\\n\")\n",
        "\n",
        "        for phase in [\"train\", \"test\"]:\n",
        "            if phase == \"train\":\n",
        "                model.train()\n",
        "            else:\n",
        "                model.eval()\n",
        "\n",
        "            running_loss = 0.0\n",
        "            running_corrects = 0\n",
        "\n",
        "            for inputs, labels in dataloaders[phase]:\n",
        "                inputs = inputs.to(device)\n",
        "                labels = labels.to(device)\n",
        "\n",
        "                optimizer.zero_grad()\n",
        "\n",
        "                with torch.set_grad_enabled(phase == \"train\"):\n",
        "                    outputs = model(inputs)\n",
        "                    _, preds = torch.max(outputs, 1)\n",
        "                    loss = criterion(outputs, labels)\n",
        "\n",
        "                    if phase == \"train\":\n",
        "                        loss.backward()\n",
        "                        optimizer.step()\n",
        "\n",
        "                running_loss += loss.item() * inputs.size(0)\n",
        "                running_corrects += torch.sum(preds == labels.data)\n",
        "\n",
        "            if phase == \"train\":\n",
        "                scheduler.step()\n",
        "\n",
        "            epoch_loss = running_loss / dataset_sizes[phase]\n",
        "            epoch_accuracy = running_corrects.double() / dataset_sizes[phase]\n",
        "\n",
        "            # deep copy model if it beats the previous most accurate one\n",
        "            if phase == \"test\" and epoch_accuracy > best_accuracy:\n",
        "                best_accuracy = epoch_accuracy\n",
        "                best_model_weights = copy.deepcopy(model.state_dict())\n",
        "\n",
        "        print()\n",
        "\n",
        "    time_elapsed = time.time() - since\n",
        "    print(f\"Training complete in {time_elapsed // 60}m {time_elapsed % 60}s\")\n",
        "    print(f\"Best accuracy: {best_accuracy:4f}\")\n",
        "\n",
        "    model.load_state_dict(best_model_weights)\n",
        "    return model"
      ],
      "metadata": {
        "id": "D7o9W4-7YIPG"
      },
      "execution_count": null,
      "outputs": []
    },
    {
      "cell_type": "code",
      "source": [
        "# Get model ready for training\n",
        "model = models.resnet18(pretrained=True)\n",
        "num_features = model.fc.in_features\n",
        "\n",
        "model.fc = nn.Linear(num_features, 5) # 5 output categories\n",
        "\n",
        "model = model.to(device)\n",
        "\n",
        "criterion = nn.CrossEntropyLoss()\n",
        "optimizer = optim.Adam(model.parameters())\n",
        "exp_lr_scheduler = lr_scheduler.StepLR(optimizer, step_size=7)"
      ],
      "metadata": {
        "id": "HaiMf7s_UgYF"
      },
      "execution_count": null,
      "outputs": []
    },
    {
      "cell_type": "code",
      "source": [
        "model = train_model(model, criterion, optimizer, exp_lr_scheduler)"
      ],
      "metadata": {
        "colab": {
          "base_uri": "https://localhost:8080/"
        },
        "id": "TeDc-yOBV4Zl",
        "outputId": "6c0b024e-79d0-4f2d-9d7c-b9a39c4e2c68"
      },
      "execution_count": null,
      "outputs": [
        {
          "output_type": "stream",
          "name": "stdout",
          "text": [
            "Epoch 0/34\n",
            "\n",
            "\n",
            "Epoch 1/34\n",
            "\n",
            "\n",
            "Epoch 2/34\n",
            "\n",
            "\n",
            "Epoch 3/34\n",
            "\n",
            "\n",
            "Epoch 4/34\n",
            "\n",
            "\n",
            "Epoch 5/34\n",
            "\n",
            "\n",
            "Epoch 6/34\n",
            "\n",
            "\n",
            "Epoch 7/34\n",
            "\n",
            "\n",
            "Epoch 8/34\n",
            "\n",
            "\n",
            "Epoch 9/34\n",
            "\n",
            "\n",
            "Epoch 10/34\n",
            "\n",
            "\n",
            "Epoch 11/34\n",
            "\n",
            "\n",
            "Epoch 12/34\n",
            "\n",
            "\n",
            "Epoch 13/34\n",
            "\n",
            "\n",
            "Epoch 14/34\n",
            "\n",
            "\n",
            "Epoch 15/34\n",
            "\n",
            "\n",
            "Epoch 16/34\n",
            "\n",
            "\n",
            "Epoch 17/34\n",
            "\n",
            "\n",
            "Epoch 18/34\n",
            "\n",
            "\n",
            "Epoch 19/34\n",
            "\n",
            "\n",
            "Epoch 20/34\n",
            "\n",
            "\n",
            "Epoch 21/34\n",
            "\n",
            "\n",
            "Epoch 22/34\n",
            "\n",
            "\n",
            "Epoch 23/34\n",
            "\n",
            "\n",
            "Epoch 24/34\n",
            "\n",
            "\n",
            "Epoch 25/34\n",
            "\n",
            "\n",
            "Epoch 26/34\n",
            "\n",
            "\n",
            "Epoch 27/34\n",
            "\n",
            "\n",
            "Epoch 28/34\n",
            "\n",
            "\n",
            "Epoch 29/34\n",
            "\n",
            "\n",
            "Epoch 30/34\n",
            "\n",
            "\n",
            "Epoch 31/34\n",
            "\n",
            "\n",
            "Epoch 32/34\n",
            "\n",
            "\n",
            "Epoch 33/34\n",
            "\n",
            "\n",
            "Epoch 34/34\n",
            "\n",
            "\n",
            "Training complete in 44.0m 11.054197311401367s\n",
            "Best accuracy: 58.571429\n"
          ]
        }
      ]
    },
    {
      "cell_type": "code",
      "source": [
        "torch.save(model.state_dict(), \".\")"
      ],
      "metadata": {
        "colab": {
          "base_uri": "https://localhost:8080/",
          "height": 168
        },
        "id": "xoYrXO-Fh0xJ",
        "outputId": "c9821b9f-3b02-4f9a-e347-d04187a49dc1"
      },
      "execution_count": null,
      "outputs": [
        {
          "output_type": "error",
          "ename": "NameError",
          "evalue": "ignored",
          "traceback": [
            "\u001b[0;31m---------------------------------------------------------------------------\u001b[0m",
            "\u001b[0;31mNameError\u001b[0m                                 Traceback (most recent call last)",
            "\u001b[0;32m<ipython-input-26-233e2dd15685>\u001b[0m in \u001b[0;36m<module>\u001b[0;34m()\u001b[0m\n\u001b[0;32m----> 1\u001b[0;31m \u001b[0mtorch\u001b[0m\u001b[0;34m.\u001b[0m\u001b[0msave\u001b[0m\u001b[0;34m(\u001b[0m\u001b[0mmodel\u001b[0m\u001b[0;34m.\u001b[0m\u001b[0mstate_dict\u001b[0m\u001b[0;34m(\u001b[0m\u001b[0;34m)\u001b[0m\u001b[0;34m,\u001b[0m \u001b[0;34m\".\"\u001b[0m\u001b[0;34m)\u001b[0m\u001b[0;34m\u001b[0m\u001b[0;34m\u001b[0m\u001b[0m\n\u001b[0m",
            "\u001b[0;31mNameError\u001b[0m: name 'model' is not defined"
          ]
        }
      ]
    },
    {
      "cell_type": "markdown",
      "source": [
        "Resources used:  \n",
        "- https://discuss.pytorch.org/t/simple-efficient-way-to-create-dataset/65178/3\n",
        "- https://stackoverflow.com/questions/48818619/pytorch-how-do-the-means-and-stds-get-calculated-in-the-transfer-learning-tutor?rq=1\n",
        "- https://www.youtube.com/watch?v=y6IEcEBRZks\n",
        "- https://blog.jovian.ai/using-pytorch-to-classify-flowers-ce297310a412\n",
        "- https://www.kaggle.com/code/devashishpandit/flowers-classification-with-pytorch\n",
        "- https://medium.com/analytics-vidhya/creating-a-custom-dataset-and-dataloader-in-pytorch-76f210a1df5d\n",
        "- https://developpaper.com/detailed-explanation-of-the-use-of-imagefolder-in-pytorch/\n",
        "- Data: https://www.kaggle.com/datasets/alxmamaev/flowers-recognition\n",
        "- https://www.kaggle.com/code/leifuer/intro-to-pytorch-loading-image-data/notebook\n",
        "- https://stackoverflow.com/questions/50544730/how-do-i-split-a-custom-dataset-into-training-and-test-datasets?rq=1\n",
        "- https://pytorch.org/tutorials/beginner/transfer_learning_tutorial.html\n"
      ],
      "metadata": {
        "id": "D7WeHdtKTAHs"
      }
    }
  ]
}